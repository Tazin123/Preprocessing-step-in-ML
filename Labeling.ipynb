{
 "cells": [
  {
   "cell_type": "code",
   "execution_count": 1,
   "id": "1cf6e230",
   "metadata": {},
   "outputs": [],
   "source": [
    "import os\n",
    "import shutil\n",
    "import numpy as np\n",
    "import matplotlib.pyplot as plt"
   ]
  },
  {
   "cell_type": "code",
   "execution_count": 2,
   "id": "945398db",
   "metadata": {},
   "outputs": [],
   "source": [
    "import tensorflow as tf\n",
    "from tensorflow.keras.preprocessing.image import ImageDataGenerator"
   ]
  },
  {
   "cell_type": "code",
   "execution_count": 3,
   "id": "0535786c",
   "metadata": {},
   "outputs": [],
   "source": [
    "BATCH_SIZE = 100\n",
    "IMG_SHAPE  = 150 # Our training data consists of images with width of 150 pixels and height of 150 pixels"
   ]
  },
  {
   "cell_type": "code",
   "execution_count": 4,
   "id": "817d2f48",
   "metadata": {},
   "outputs": [],
   "source": [
    "# This function will plot images in the form of a grid with 1 row and 5 columns where images are placed in each column.\n",
    "def plotImages(images_arr):\n",
    "    fig, axes = plt.subplots(1, 5, figsize=(20,20))\n",
    "    axes = axes.flatten()\n",
    "    for img, ax in zip( images_arr, axes):\n",
    "        ax.imshow(img)\n",
    "    plt.tight_layout()\n",
    "    plt.show()"
   ]
  },
  {
   "cell_type": "code",
   "execution_count": 5,
   "id": "bca79215",
   "metadata": {},
   "outputs": [],
   "source": [
    "original_folder = r\"C:\\Users\\Shusmita\\Desktop\\Oral Cancer\""
   ]
  },
  {
   "cell_type": "code",
   "execution_count": 6,
   "id": "37db0a80",
   "metadata": {},
   "outputs": [
    {
     "name": "stdout",
     "output_type": "stream",
     "text": [
      "cancer 44\n"
     ]
    }
   ],
   "source": [
    "import os\n",
    "\n",
    "File_length=[]\n",
    "\n",
    "dir_path = original_folder\n",
    "path= \"cancer\"\n",
    "Dir_path= os.path.join(dir_path, path)\n",
    "count = 0\n",
    "# Iterate directory\n",
    "for path in os.listdir(Dir_path):\n",
    "# check if current path is a file\n",
    "    if os.path.isfile(os.path.join(Dir_path, path)):\n",
    "        count += 1\n",
    "print(\"cancer\",count)"
   ]
  },
  {
   "cell_type": "code",
   "execution_count": 7,
   "id": "4f97f4ed",
   "metadata": {},
   "outputs": [
    {
     "name": "stdout",
     "output_type": "stream",
     "text": [
      "non_cancer 44\n"
     ]
    }
   ],
   "source": [
    "path= \"non_cancer\"\n",
    "Dir_path= os.path.join(dir_path, path)\n",
    "count = 0\n",
    "# Iterate directory\n",
    "for path in os.listdir(Dir_path):\n",
    "# check if current path is a file\n",
    "    if os.path.isfile(os.path.join(Dir_path, path)):\n",
    "        count += 1\n",
    "print(\"non_cancer\",count)"
   ]
  },
  {
   "cell_type": "code",
   "execution_count": 8,
   "id": "8c09a1f6",
   "metadata": {},
   "outputs": [
    {
     "name": "stdout",
     "output_type": "stream",
     "text": [
      "C:\\Users\\Shusmita\\Desktop\\Oral Cancer\\cancer\\cancer_1.jpg\n",
      "C:\\Users\\Shusmita\\Desktop\\Oral Cancer\\cancer\\cancer_2.jpg\n",
      "C:\\Users\\Shusmita\\Desktop\\Oral Cancer\\cancer\\cancer_3.jpg\n",
      "C:\\Users\\Shusmita\\Desktop\\Oral Cancer\\cancer\\cancer_4.jpg\n",
      "C:\\Users\\Shusmita\\Desktop\\Oral Cancer\\cancer\\cancer_5.jpg\n",
      "C:\\Users\\Shusmita\\Desktop\\Oral Cancer\\cancer\\cancer_6.jpg\n",
      "C:\\Users\\Shusmita\\Desktop\\Oral Cancer\\cancer\\cancer_7.jpg\n",
      "C:\\Users\\Shusmita\\Desktop\\Oral Cancer\\cancer\\cancer_8.jpg\n",
      "C:\\Users\\Shusmita\\Desktop\\Oral Cancer\\cancer\\cancer_9.jpg\n",
      "C:\\Users\\Shusmita\\Desktop\\Oral Cancer\\cancer\\cancer_10.jpg\n",
      "C:\\Users\\Shusmita\\Desktop\\Oral Cancer\\cancer\\cancer_11.jpg\n",
      "C:\\Users\\Shusmita\\Desktop\\Oral Cancer\\cancer\\cancer_12.jpg\n",
      "C:\\Users\\Shusmita\\Desktop\\Oral Cancer\\cancer\\cancer_13.jpg\n",
      "C:\\Users\\Shusmita\\Desktop\\Oral Cancer\\cancer\\cancer_14.jpg\n",
      "C:\\Users\\Shusmita\\Desktop\\Oral Cancer\\cancer\\cancer_15.jpg\n",
      "C:\\Users\\Shusmita\\Desktop\\Oral Cancer\\cancer\\cancer_16.jpg\n",
      "C:\\Users\\Shusmita\\Desktop\\Oral Cancer\\cancer\\cancer_17.jpg\n",
      "C:\\Users\\Shusmita\\Desktop\\Oral Cancer\\cancer\\cancer_18.jpg\n",
      "C:\\Users\\Shusmita\\Desktop\\Oral Cancer\\cancer\\cancer_19.jpg\n",
      "C:\\Users\\Shusmita\\Desktop\\Oral Cancer\\cancer\\cancer_20.jpg\n",
      "C:\\Users\\Shusmita\\Desktop\\Oral Cancer\\cancer\\cancer_21.jpg\n",
      "C:\\Users\\Shusmita\\Desktop\\Oral Cancer\\cancer\\cancer_22.jpg\n",
      "C:\\Users\\Shusmita\\Desktop\\Oral Cancer\\cancer\\cancer_23.jpg\n",
      "C:\\Users\\Shusmita\\Desktop\\Oral Cancer\\cancer\\cancer_24.jpg\n",
      "C:\\Users\\Shusmita\\Desktop\\Oral Cancer\\cancer\\cancer_25.jpg\n",
      "C:\\Users\\Shusmita\\Desktop\\Oral Cancer\\cancer\\cancer_26.jpg\n",
      "C:\\Users\\Shusmita\\Desktop\\Oral Cancer\\cancer\\cancer_27.jpg\n",
      "C:\\Users\\Shusmita\\Desktop\\Oral Cancer\\cancer\\cancer_28.jpg\n",
      "C:\\Users\\Shusmita\\Desktop\\Oral Cancer\\cancer\\cancer_29.jpg\n",
      "C:\\Users\\Shusmita\\Desktop\\Oral Cancer\\cancer\\cancer_30.jpg\n",
      "C:\\Users\\Shusmita\\Desktop\\Oral Cancer\\cancer\\cancer_31.jpg\n",
      "C:\\Users\\Shusmita\\Desktop\\Oral Cancer\\cancer\\cancer_32.jpg\n",
      "C:\\Users\\Shusmita\\Desktop\\Oral Cancer\\cancer\\cancer_33.jpg\n",
      "C:\\Users\\Shusmita\\Desktop\\Oral Cancer\\cancer\\cancer_34.jpg\n",
      "C:\\Users\\Shusmita\\Desktop\\Oral Cancer\\cancer\\cancer_35.jpg\n",
      "C:\\Users\\Shusmita\\Desktop\\Oral Cancer\\cancer\\cancer_36.jpg\n",
      "C:\\Users\\Shusmita\\Desktop\\Oral Cancer\\cancer\\cancer_37.jpg\n",
      "C:\\Users\\Shusmita\\Desktop\\Oral Cancer\\cancer\\cancer_38.jpg\n",
      "C:\\Users\\Shusmita\\Desktop\\Oral Cancer\\cancer\\cancer_39.jpg\n",
      "C:\\Users\\Shusmita\\Desktop\\Oral Cancer\\cancer\\cancer_40.jpg\n",
      "C:\\Users\\Shusmita\\Desktop\\Oral Cancer\\cancer\\cancer_41.jpg\n",
      "C:\\Users\\Shusmita\\Desktop\\Oral Cancer\\cancer\\cancer_42.jpg\n",
      "C:\\Users\\Shusmita\\Desktop\\Oral Cancer\\cancer\\cancer_43.jpg\n",
      "C:\\Users\\Shusmita\\Desktop\\Oral Cancer\\cancer\\cancer_44.jpg\n"
     ]
    }
   ],
   "source": [
    "import os\n",
    "os.getcwd()\n",
    "collection = r\"C:\\Users\\Shusmita\\Desktop\\Oral Cancer\\cancer\"\n",
    "i=1\n",
    "for path in os.listdir(collection):\n",
    "    if os.path.isfile(os.path.join(collection, path)):\n",
    "        prev=os.path.join(collection, path)\n",
    "        path2=\"cancer_\"+str(i)+\".jpg\"\n",
    "        i=i+1\n",
    "        #print(path2)\n",
    "        curr=os.path.join(collection, path2)\n",
    "        print(curr)\n",
    "        os.rename(prev, curr)\n",
    "#\"E:\\basic_characters\\original\\3\\1_3.jpg\"\n",
    "#for i, filename in enumerate(os.listdir(collection)):\n",
    "   # os.rename(\"E:\\basic_characters\\original\\3\" + filename, \"E:\\basic_characters\\original\\3\\3_\" + str(i) + \".jpg\")"
   ]
  },
  {
   "cell_type": "code",
   "execution_count": 9,
   "id": "ec22f357",
   "metadata": {},
   "outputs": [
    {
     "name": "stdout",
     "output_type": "stream",
     "text": [
      "C:\\Users\\Shusmita\\Desktop\\Oral Cancer\\non_cancer\\non_cancer_1.jpg\n",
      "C:\\Users\\Shusmita\\Desktop\\Oral Cancer\\non_cancer\\non_cancer_2.jpg\n",
      "C:\\Users\\Shusmita\\Desktop\\Oral Cancer\\non_cancer\\non_cancer_3.jpg\n",
      "C:\\Users\\Shusmita\\Desktop\\Oral Cancer\\non_cancer\\non_cancer_4.jpg\n",
      "C:\\Users\\Shusmita\\Desktop\\Oral Cancer\\non_cancer\\non_cancer_5.jpg\n",
      "C:\\Users\\Shusmita\\Desktop\\Oral Cancer\\non_cancer\\non_cancer_6.jpg\n",
      "C:\\Users\\Shusmita\\Desktop\\Oral Cancer\\non_cancer\\non_cancer_7.jpg\n",
      "C:\\Users\\Shusmita\\Desktop\\Oral Cancer\\non_cancer\\non_cancer_8.jpg\n",
      "C:\\Users\\Shusmita\\Desktop\\Oral Cancer\\non_cancer\\non_cancer_9.jpg\n",
      "C:\\Users\\Shusmita\\Desktop\\Oral Cancer\\non_cancer\\non_cancer_10.jpg\n",
      "C:\\Users\\Shusmita\\Desktop\\Oral Cancer\\non_cancer\\non_cancer_11.jpg\n",
      "C:\\Users\\Shusmita\\Desktop\\Oral Cancer\\non_cancer\\non_cancer_12.jpg\n",
      "C:\\Users\\Shusmita\\Desktop\\Oral Cancer\\non_cancer\\non_cancer_13.jpg\n",
      "C:\\Users\\Shusmita\\Desktop\\Oral Cancer\\non_cancer\\non_cancer_14.jpg\n",
      "C:\\Users\\Shusmita\\Desktop\\Oral Cancer\\non_cancer\\non_cancer_15.jpg\n",
      "C:\\Users\\Shusmita\\Desktop\\Oral Cancer\\non_cancer\\non_cancer_16.jpg\n",
      "C:\\Users\\Shusmita\\Desktop\\Oral Cancer\\non_cancer\\non_cancer_17.jpg\n",
      "C:\\Users\\Shusmita\\Desktop\\Oral Cancer\\non_cancer\\non_cancer_18.jpg\n",
      "C:\\Users\\Shusmita\\Desktop\\Oral Cancer\\non_cancer\\non_cancer_19.jpg\n",
      "C:\\Users\\Shusmita\\Desktop\\Oral Cancer\\non_cancer\\non_cancer_20.jpg\n",
      "C:\\Users\\Shusmita\\Desktop\\Oral Cancer\\non_cancer\\non_cancer_21.jpg\n",
      "C:\\Users\\Shusmita\\Desktop\\Oral Cancer\\non_cancer\\non_cancer_22.jpg\n",
      "C:\\Users\\Shusmita\\Desktop\\Oral Cancer\\non_cancer\\non_cancer_23.jpg\n",
      "C:\\Users\\Shusmita\\Desktop\\Oral Cancer\\non_cancer\\non_cancer_24.jpg\n",
      "C:\\Users\\Shusmita\\Desktop\\Oral Cancer\\non_cancer\\non_cancer_25.jpg\n",
      "C:\\Users\\Shusmita\\Desktop\\Oral Cancer\\non_cancer\\non_cancer_26.jpg\n",
      "C:\\Users\\Shusmita\\Desktop\\Oral Cancer\\non_cancer\\non_cancer_27.jpg\n",
      "C:\\Users\\Shusmita\\Desktop\\Oral Cancer\\non_cancer\\non_cancer_28.jpg\n",
      "C:\\Users\\Shusmita\\Desktop\\Oral Cancer\\non_cancer\\non_cancer_29.jpg\n",
      "C:\\Users\\Shusmita\\Desktop\\Oral Cancer\\non_cancer\\non_cancer_30.jpg\n",
      "C:\\Users\\Shusmita\\Desktop\\Oral Cancer\\non_cancer\\non_cancer_31.jpg\n",
      "C:\\Users\\Shusmita\\Desktop\\Oral Cancer\\non_cancer\\non_cancer_32.jpg\n",
      "C:\\Users\\Shusmita\\Desktop\\Oral Cancer\\non_cancer\\non_cancer_33.jpg\n",
      "C:\\Users\\Shusmita\\Desktop\\Oral Cancer\\non_cancer\\non_cancer_34.jpg\n",
      "C:\\Users\\Shusmita\\Desktop\\Oral Cancer\\non_cancer\\non_cancer_35.jpg\n",
      "C:\\Users\\Shusmita\\Desktop\\Oral Cancer\\non_cancer\\non_cancer_36.jpg\n",
      "C:\\Users\\Shusmita\\Desktop\\Oral Cancer\\non_cancer\\non_cancer_37.jpg\n",
      "C:\\Users\\Shusmita\\Desktop\\Oral Cancer\\non_cancer\\non_cancer_38.jpg\n",
      "C:\\Users\\Shusmita\\Desktop\\Oral Cancer\\non_cancer\\non_cancer_39.jpg\n",
      "C:\\Users\\Shusmita\\Desktop\\Oral Cancer\\non_cancer\\non_cancer_40.jpg\n",
      "C:\\Users\\Shusmita\\Desktop\\Oral Cancer\\non_cancer\\non_cancer_41.jpg\n",
      "C:\\Users\\Shusmita\\Desktop\\Oral Cancer\\non_cancer\\non_cancer_42.jpg\n",
      "C:\\Users\\Shusmita\\Desktop\\Oral Cancer\\non_cancer\\non_cancer_43.jpg\n",
      "C:\\Users\\Shusmita\\Desktop\\Oral Cancer\\non_cancer\\non_cancer_44.jpg\n"
     ]
    }
   ],
   "source": [
    "import os\n",
    "os.getcwd()\n",
    "collection = r\"C:\\Users\\Shusmita\\Desktop\\Oral Cancer\\non_cancer\"\n",
    "i=1\n",
    "for path in os.listdir(collection):\n",
    "    if os.path.isfile(os.path.join(collection, path)):\n",
    "        prev=os.path.join(collection, path)\n",
    "        path2=\"non_cancer_\"+str(i)+\".jpg\"\n",
    "        i=i+1\n",
    "        #print(path2)\n",
    "        curr=os.path.join(collection, path2)\n",
    "        print(curr)\n",
    "        os.rename(prev, curr)"
   ]
  },
  {
   "cell_type": "code",
   "execution_count": null,
   "id": "b9a6218d",
   "metadata": {},
   "outputs": [],
   "source": []
  }
 ],
 "metadata": {
  "kernelspec": {
   "display_name": "Python 3 (ipykernel)",
   "language": "python",
   "name": "python3"
  },
  "language_info": {
   "codemirror_mode": {
    "name": "ipython",
    "version": 3
   },
   "file_extension": ".py",
   "mimetype": "text/x-python",
   "name": "python",
   "nbconvert_exporter": "python",
   "pygments_lexer": "ipython3",
   "version": "3.10.9"
  }
 },
 "nbformat": 4,
 "nbformat_minor": 5
}
