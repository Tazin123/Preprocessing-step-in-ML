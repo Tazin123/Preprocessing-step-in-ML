{
 "cells": [
  {
   "cell_type": "code",
   "execution_count": 84,
   "id": "93ce1e99",
   "metadata": {},
   "outputs": [],
   "source": [
    "import os\n",
    "import cv2\n",
    "import numpy as np\n",
    "import random\n",
    "from tensorflow.keras.preprocessing.image import ImageDataGenerator"
   ]
  },
  {
   "cell_type": "code",
   "execution_count": 85,
   "id": "52c1e7df",
   "metadata": {},
   "outputs": [],
   "source": [
    "\n",
    "# Step 1: Define the dataset location and augmentation parameters\n",
    "data_directory = \"C:/Users/Shusmita/Desktop/Oral Cancer\"\n",
    "output_directory = \"C:/Users/Shusmita/Desktop/Oral Cancer/Augmented_Oral_Cancer\"\n",
    "augmentation_factor = 10  # Number of augmented images per original image"
   ]
  },
  {
   "cell_type": "code",
   "execution_count": 86,
   "id": "108a4ab8",
   "metadata": {},
   "outputs": [],
   "source": [
    "# Step 2: Function to preprocess images (resize and crop)\n",
    "def preprocess_image(image_path, target_size=(224, 224)):\n",
    "    img = cv2.imread(image_path)\n",
    "    img = cv2.cvtColor(img, cv2.COLOR_BGR2RGB)  # Convert BGR to RGB\n",
    "    img = cv2.resize(img, target_size)\n",
    "    return img"
   ]
  },
  {
   "cell_type": "code",
   "execution_count": 87,
   "id": "1280161c",
   "metadata": {},
   "outputs": [],
   "source": [
    "\n",
    "# Step 3: Function to augment images and save them to the output directory\n",
    "def augment_images(input_directory, output_directory, augmentation_factor):\n",
    "    if not os.path.exists(output_directory):\n",
    "        os.makedirs(output_directory)\n",
    "\n",
    "    image_gen = ImageDataGenerator(\n",
    "        rotation_range=30,\n",
    "        width_shift_range=0.2,\n",
    "        height_shift_range=0.2,\n",
    "        shear_range=0.2,\n",
    "        zoom_range=0.2,\n",
    "        horizontal_flip=True,\n",
    "        vertical_flip=True\n",
    "    )\n",
    "\n",
    "    image_files = os.listdir(input_directory)\n",
    "    for img_file in image_files:\n",
    "        img_path = os.path.join(input_directory, img_file)\n",
    "        img = preprocess_image(img_path)\n",
    "        img = img.reshape((1,) + img.shape)  # Reshape for augmentation\n",
    "        count = 0\n",
    "\n",
    "        output_folder = os.path.join(output_directory, os.path.basename(input_directory))\n",
    "        if not os.path.exists(output_folder):\n",
    "            os.makedirs(output_folder)\n",
    "\n",
    "        for batch in image_gen.flow(img, save_to_dir=output_folder, save_prefix=img_file[:-4], save_format='jpg'):\n",
    "            count += 1\n",
    "            if count >= augmentation_factor:\n",
    "                break\n"
   ]
  },
  {
   "cell_type": "code",
   "execution_count": 88,
   "id": "7fd90f6f",
   "metadata": {},
   "outputs": [],
   "source": [
    "# Step 4: Preprocess and augment both cancer and non-cancer folders\n",
    "cancer_folder = os.path.join(data_directory, \"cancer\")\n",
    "non_cancer_folder = os.path.join(data_directory, \"non_cancer\")\n",
    "\n",
    "augment_images(cancer_folder, os.path.join(output_directory, \"cancer\"), augmentation_factor)\n",
    "augment_images(non_cancer_folder, os.path.join(output_directory, \"non_cancer\"), augmentation_factor)"
   ]
  },
  {
   "cell_type": "code",
   "execution_count": 89,
   "id": "39b53a5a",
   "metadata": {},
   "outputs": [
    {
     "name": "stdout",
     "output_type": "stream",
     "text": [
      "Total augmented cancer images: 440\n",
      "Total augmented non-cancer images: 439\n"
     ]
    }
   ],
   "source": [
    "# Step 5: Display the number of augmented images\n",
    "def count_images(directory):\n",
    "    return sum(len(files) for _, _, files in os.walk(directory))\n",
    "\n",
    "total_augmented_cancer = count_images(os.path.join(output_directory, \"cancer\"))\n",
    "total_augmented_non_cancer = count_images(os.path.join(output_directory, \"non_cancer\"))\n",
    "\n",
    "print(\"Total augmented cancer images:\", total_augmented_cancer)\n",
    "print(\"Total augmented non-cancer images:\", total_augmented_non_cancer)"
   ]
  },
  {
   "cell_type": "code",
   "execution_count": null,
   "id": "13e5f642",
   "metadata": {},
   "outputs": [],
   "source": []
  }
 ],
 "metadata": {
  "kernelspec": {
   "display_name": "Python 3 (ipykernel)",
   "language": "python",
   "name": "python3"
  },
  "language_info": {
   "codemirror_mode": {
    "name": "ipython",
    "version": 3
   },
   "file_extension": ".py",
   "mimetype": "text/x-python",
   "name": "python",
   "nbconvert_exporter": "python",
   "pygments_lexer": "ipython3",
   "version": "3.10.9"
  }
 },
 "nbformat": 4,
 "nbformat_minor": 5
}
